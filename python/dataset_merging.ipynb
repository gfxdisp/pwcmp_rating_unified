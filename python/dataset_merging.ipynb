{
 "cells": [
  {
   "cell_type": "code",
   "execution_count": null,
   "metadata": {},
   "outputs": [],
   "source": [
    "import numpy as np\n",
    "from merging import merge_datasets"
   ]
  },
  {
   "cell_type": "code",
   "execution_count": null,
   "metadata": {
    "scrolled": true
   },
   "outputs": [],
   "source": [
    "\n",
    "# Define an array to hold dataset sizes\n",
    "datasets_sizes = np.array([4,5])\n",
    "\n",
    "# Full matrix of pairwise comparisons including cross-dataset and within dataset comparisons\n",
    "pwc = np.array([[0, 0, 0, 3, 0, 3, 0, 0, 0],\n",
    "                [6, 0, 0, 0, 0, 6, 0, 0, 5],\n",
    "                [0, 0, 0, 0, 0, 0, 0, 0, 0],\n",
    "                [3, 6, 0, 0, 6, 0, 0, 9, 0],\n",
    "                [0, 0, 0, 4, 0, 2, 3, 2, 3],\n",
    "                [7, 4, 0, 0, 4, 0, 3, 3, 3],\n",
    "                [0, 0, 0, 0, 3, 3, 0, 3, 4],\n",
    "                [0, 0, 0, 1, 4, 3, 3, 0, 2],\n",
    "                [0, 5, 0, 0, 3, 3, 2, 4, 0]])\n",
    "\n",
    "# Matrix with rating scores, each row is a condition, it's column is the rating measurement trial\n",
    "mos = np.array([[3, 4, 5, 5, np.nan, np.nan, np.nan, np.nan, np.nan],\n",
    "                [5, 7, 7, 7, np.nan, np.nan, np.nan, np.nan, np.nan],\n",
    "                [9, 7, 8, 9, np.nan, np.nan, np.nan, np.nan, np.nan],\n",
    "                [9, 9, 9, 8, np.nan, np.nan, np.nan, np.nan, np.nan],\n",
    "                [np.nan, np.nan, np.nan, np.nan, 3, 2, 3, 3, 2],\n",
    "                [np.nan, np.nan, np.nan, np.nan, np.nan, np.nan, np.nan, np.nan, np.nan],\n",
    "                [np.nan, np.nan, np.nan, np.nan, 4, 3, 3, 3, 2],\n",
    "                [np.nan, np.nan, np.nan, np.nan, 3, 3, 3, 4, 2],\n",
    "                [np.nan, np.nan, np.nan, np.nan, 3, 2, 4, 4, 3]])\n",
    "\n",
    "\n",
    "# Produce the estimates\n",
    "Q, a, b, nu = merge_datasets(pwc,mos,datasets_sizes)\n",
    "\n",
    "print(\"Q = \", Q)\n",
    "print(\"a = \", a)\n",
    "print(\"b = \", b)\n",
    "print(\"nu = \", nu)"
   ]
  },
  {
   "cell_type": "code",
   "execution_count": null,
   "metadata": {},
   "outputs": [],
   "source": []
  }
 ],
 "metadata": {
  "kernelspec": {
   "display_name": "Python 3",
   "language": "python",
   "name": "python3"
  },
  "language_info": {
   "codemirror_mode": {
    "name": "ipython",
    "version": 3
   },
   "file_extension": ".py",
   "mimetype": "text/x-python",
   "name": "python",
   "nbconvert_exporter": "python",
   "pygments_lexer": "ipython3",
   "version": "3.8.5"
  }
 },
 "nbformat": 4,
 "nbformat_minor": 4
}
